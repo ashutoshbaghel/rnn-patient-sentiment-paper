{
 "cells": [
  {
   "cell_type": "code",
   "execution_count": 1,
   "metadata": {
    "collapsed": false,
    "scrolled": true
   },
   "outputs": [
    {
     "name": "stderr",
     "output_type": "stream",
     "text": [
      "Using TensorFlow backend.\n"
     ]
    }
   ],
   "source": [
    "import cPickle\n",
    "import numpy as np\n",
    "\n",
    "from keras.models import Sequential\n",
    "from keras.layers.core import Dense, Dropout, Activation, Flatten, Reshape, Merge\n",
    "from keras.layers.embeddings import Embedding\n",
    "from keras.layers.convolutional import Convolution2D, MaxPooling2D\n",
    "from keras.optimizers import SGD, Adadelta\n",
    "from keras.constraints import unitnorm, maxnorm\n",
    "from keras.regularizers import l2\n",
    "from keras.layers.advanced_activations import PReLU\n",
    "from keras.preprocessing import sequence\n",
    "\n",
    "from keras.layers import Dense, Dropout, Activation, Embedding\n",
    "from keras.layers import LSTM, SimpleRNN, GRU\n",
    "\n",
    "from sklearn.metrics import roc_auc_score\n",
    "\n",
    "# This import to resolve some errors with tf version on office server\n",
    "import tensorflow as tf\n",
    "tf.python.control_flow_ops = tf"
   ]
  },
  {
   "cell_type": "code",
   "execution_count": 2,
   "metadata": {
    "collapsed": false
   },
   "outputs": [],
   "source": [
    "x = cPickle.load(open('text-w-map-vocab.pickle', 'rb'))\n",
    "revs, W, word_idx_map, vocab = x[0], x[1], x[2], x[3]"
   ]
  },
  {
   "cell_type": "code",
   "execution_count": 3,
   "metadata": {
    "collapsed": true
   },
   "outputs": [],
   "source": [
    "datasets = cPickle.load(open(\"train-test-val.pickle\", \"rb\"))"
   ]
  },
  {
   "cell_type": "code",
   "execution_count": 4,
   "metadata": {
    "collapsed": true
   },
   "outputs": [],
   "source": [
    "train, val, test = datasets[0], datasets[1], datasets[2]\n",
    "y_helpful_train, y_helpful_val, y_helpful_test =datasets[3], datasets[4], datasets[5]\n",
    "y_helpful_cat_train, y_helpful_cat_val, y_helpful_cat_test = datasets[6], datasets[7], datasets[8]\n",
    "y_staff_train, y_staff_val, y_staff_test = datasets[9], datasets[10], datasets[11]\n",
    "y_staff_cat_train, y_staff_cat_val, y_staff_cat_test = datasets[12], datasets[13], datasets[14]\n",
    "y_knowledge_train, y_knowledge_val, y_knowledge_test = datasets[15], datasets[16], datasets[17]\n",
    "y_knowledge_cat_train, y_knowledge_cat_val, y_knowledge_cat_test = datasets[18], datasets[19], datasets[20]"
   ]
  },
  {
   "cell_type": "code",
   "execution_count": 5,
   "metadata": {
    "collapsed": false
   },
   "outputs": [
    {
     "name": "stdout",
     "output_type": "stream",
     "text": [
      "Build model...\n"
     ]
    }
   ],
   "source": [
    "print('Build model...')\n",
    "model = Sequential()\n",
    "model.add(Embedding(len(vocab)+1, 300, dropout=0.2, mask_zero=True))\n",
    "model.add(LSTM(300, dropout_W=0.2, dropout_U=0.2))  # try using a GRU instead, for fun\n",
    "model.add(Dense(1))\n",
    "model.add(Activation('sigmoid'))\n",
    "\n",
    "# try using different optimizers and different optimizer configs\n",
    "model.compile(loss='binary_crossentropy',\n",
    "              optimizer='RMSprop',\n",
    "              metrics=['accuracy'])"
   ]
  },
  {
   "cell_type": "code",
   "execution_count": 6,
   "metadata": {
    "collapsed": false
   },
   "outputs": [
    {
     "name": "stdout",
     "output_type": "stream",
     "text": [
      "Train...\n"
     ]
    },
    {
     "name": "stderr",
     "output_type": "stream",
     "text": [
      "/usr/lib/python2.7/site-packages/tensorflow/python/ops/gradients.py:90: UserWarning: Converting sparse IndexedSlices to a dense Tensor of unknown shape. This may consume a large amount of memory.\n",
      "  \"Converting sparse IndexedSlices to a dense Tensor of unknown shape. \"\n"
     ]
    },
    {
     "name": "stdout",
     "output_type": "stream",
     "text": [
      "Train on 27151 samples, validate on 6849 samples\n",
      "Epoch 1/7\n",
      "27151/27151 [==============================] - 1693s - loss: 0.3990 - acc: 0.8123 - val_loss: 0.2567 - val_acc: 0.8924\n",
      "Epoch 2/7\n",
      "27151/27151 [==============================] - 1110s - loss: 0.3051 - acc: 0.8625 - val_loss: 0.2528 - val_acc: 0.8851\n",
      "Epoch 3/7\n",
      "27151/27151 [==============================] - 1157s - loss: 0.2621 - acc: 0.8839 - val_loss: 0.2304 - val_acc: 0.9049\n",
      "Epoch 4/7\n",
      "27151/27151 [==============================] - 1142s - loss: 0.2303 - acc: 0.8994 - val_loss: 0.2097 - val_acc: 0.9102\n",
      "Epoch 5/7\n",
      "27151/27151 [==============================] - 1144s - loss: 0.2127 - acc: 0.9069 - val_loss: 0.2055 - val_acc: 0.9070\n",
      "Epoch 6/7\n",
      "27151/27151 [==============================] - 1139s - loss: 0.1976 - acc: 0.9145 - val_loss: 0.2190 - val_acc: 0.9101\n",
      "Epoch 7/7\n",
      "27151/27151 [==============================] - 1136s - loss: 0.1873 - acc: 0.9185 - val_loss: 0.2430 - val_acc: 0.8931\n",
      "4200/4200 [==============================] - 52s    \n",
      "('Test score:', 0.24898620087298609)\n",
      "('Test accuracy:', 0.89095237567311236)\n"
     ]
    }
   ],
   "source": [
    "print('Train...')\n",
    "model.fit(train, y_helpful_train, batch_size=50, nb_epoch=7,validation_data=(val, y_helpful_val))\n",
    "score, acc = model.evaluate(test, y_helpful_test,\n",
    "                            batch_size=50)\n",
    "print('Test score:', score)\n",
    "print('Test accuracy:', acc)"
   ]
  },
  {
   "cell_type": "code",
   "execution_count": 7,
   "metadata": {
    "collapsed": false
   },
   "outputs": [
    {
     "name": "stdout",
     "output_type": "stream",
     "text": [
      "Build model...\n"
     ]
    }
   ],
   "source": [
    "print('Build model...')\n",
    "model = Sequential()\n",
    "model.add(Embedding(len(vocab)+1, 300, dropout=0.2, mask_zero=True))\n",
    "model.add(LSTM(300, dropout_W=0.2, dropout_U=0.2))  # try using a GRU instead, for fun\n",
    "model.add(Dense(1))\n",
    "model.add(Activation('sigmoid'))\n",
    "\n",
    "# try using different optimizers and different optimizer configs\n",
    "model.compile(loss='binary_crossentropy',\n",
    "              optimizer='RMSprop',\n",
    "              metrics=['accuracy'])"
   ]
  },
  {
   "cell_type": "code",
   "execution_count": 8,
   "metadata": {
    "collapsed": false
   },
   "outputs": [
    {
     "name": "stdout",
     "output_type": "stream",
     "text": [
      "Train...\n",
      "Train on 27151 samples, validate on 6849 samples\n",
      "Epoch 1/7\n",
      "27151/27151 [==============================] - 1138s - loss: 0.4307 - acc: 0.7951 - val_loss: 0.3667 - val_acc: 0.8296\n",
      "Epoch 2/7\n",
      "27151/27151 [==============================] - 1138s - loss: 0.3726 - acc: 0.8231 - val_loss: 0.3080 - val_acc: 0.8416\n",
      "Epoch 3/7\n",
      "27151/27151 [==============================] - 1150s - loss: 0.3418 - acc: 0.8387 - val_loss: 0.3936 - val_acc: 0.8318\n",
      "Epoch 4/7\n",
      "27151/27151 [==============================] - 1151s - loss: 0.3243 - acc: 0.8500 - val_loss: 0.2957 - val_acc: 0.8549\n",
      "Epoch 5/7\n",
      "27151/27151 [==============================] - 1156s - loss: 0.3053 - acc: 0.8585 - val_loss: 0.2944 - val_acc: 0.8584\n",
      "Epoch 6/7\n",
      "27151/27151 [==============================] - 1143s - loss: 0.2886 - acc: 0.8683 - val_loss: 0.3265 - val_acc: 0.8404\n",
      "Epoch 7/7\n",
      "27151/27151 [==============================] - 1152s - loss: 0.2733 - acc: 0.8799 - val_loss: 0.3469 - val_acc: 0.8479\n",
      "4200/4200 [==============================] - 52s    \n",
      "('Test score:', 0.35475745619762511)\n",
      "('Test accuracy:', 0.84738095104694366)\n"
     ]
    }
   ],
   "source": [
    "print('Train...')\n",
    "model.fit(train, y_staff_train, batch_size=50, nb_epoch=7,validation_data=(val, y_staff_val))\n",
    "score, acc = model.evaluate(test, y_staff_test,\n",
    "                            batch_size=50)\n",
    "print('Test score:', score)\n",
    "print('Test accuracy:', acc)"
   ]
  },
  {
   "cell_type": "code",
   "execution_count": 9,
   "metadata": {
    "collapsed": false
   },
   "outputs": [
    {
     "name": "stdout",
     "output_type": "stream",
     "text": [
      "Build model...\n"
     ]
    }
   ],
   "source": [
    "print('Build model...')\n",
    "model = Sequential()\n",
    "model.add(Embedding(len(vocab)+1, 300, dropout=0.2, mask_zero=True))\n",
    "model.add(LSTM(300, dropout_W=0.2, dropout_U=0.2))  # try using a GRU instead, for fun\n",
    "model.add(Dense(1))\n",
    "model.add(Activation('sigmoid'))\n",
    "\n",
    "# try using different optimizers and different optimizer configs\n",
    "model.compile(loss='binary_crossentropy',\n",
    "              optimizer='RMSprop',\n",
    "              metrics=['accuracy'])"
   ]
  },
  {
   "cell_type": "code",
   "execution_count": 10,
   "metadata": {
    "collapsed": false
   },
   "outputs": [
    {
     "name": "stdout",
     "output_type": "stream",
     "text": [
      "Train...\n",
      "Train on 27151 samples, validate on 6849 samples\n",
      "Epoch 1/7\n",
      "27151/27151 [==============================] - 1170s - loss: 0.4088 - acc: 0.8056 - val_loss: 0.3016 - val_acc: 0.8557\n",
      "Epoch 2/7\n",
      "27151/27151 [==============================] - 1158s - loss: 0.3237 - acc: 0.8449 - val_loss: 0.3101 - val_acc: 0.8682\n",
      "Epoch 3/7\n",
      "27151/27151 [==============================] - 1184s - loss: 0.2858 - acc: 0.8645 - val_loss: 0.2683 - val_acc: 0.8695\n",
      "Epoch 4/7\n",
      "27151/27151 [==============================] - 1174s - loss: 0.2683 - acc: 0.8753 - val_loss: 0.2807 - val_acc: 0.8724\n",
      "Epoch 5/7\n",
      "27151/27151 [==============================] - 1169s - loss: 0.2458 - acc: 0.8855 - val_loss: 0.2602 - val_acc: 0.8753\n",
      "Epoch 6/7\n",
      "27151/27151 [==============================] - 1174s - loss: 0.2325 - acc: 0.8919 - val_loss: 0.2910 - val_acc: 0.8626\n",
      "Epoch 7/7\n",
      "27151/27151 [==============================] - 1177s - loss: 0.2205 - acc: 0.8997 - val_loss: 0.2601 - val_acc: 0.8776\n",
      "4200/4200 [==============================] - 50s    \n",
      "('Test score:', 0.25773103730309577)\n",
      "('Test accuracy:', 0.88333332964352196)\n"
     ]
    }
   ],
   "source": [
    "print('Train...')\n",
    "model.fit(train, y_knowledge_train, batch_size=50, nb_epoch=7,validation_data=(val, y_knowledge_val))\n",
    "score, acc = model.evaluate(test, y_knowledge_test,\n",
    "                            batch_size=50)\n",
    "print('Test score:', score)\n",
    "print('Test accuracy:', acc)"
   ]
  }
 ],
 "metadata": {
  "kernelspec": {
   "display_name": "Python 2",
   "language": "python",
   "name": "python2"
  },
  "language_info": {
   "codemirror_mode": {
    "name": "ipython",
    "version": 2
   },
   "file_extension": ".py",
   "mimetype": "text/x-python",
   "name": "python",
   "nbconvert_exporter": "python",
   "pygments_lexer": "ipython2",
   "version": "2.7.5"
  }
 },
 "nbformat": 4,
 "nbformat_minor": 1
}
