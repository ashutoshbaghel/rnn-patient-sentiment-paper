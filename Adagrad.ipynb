{
 "cells": [
  {
   "cell_type": "code",
   "execution_count": 1,
   "metadata": {
    "collapsed": false,
    "scrolled": true
   },
   "outputs": [
    {
     "name": "stderr",
     "output_type": "stream",
     "text": [
      "Using TensorFlow backend.\n"
     ]
    }
   ],
   "source": [
    "import cPickle\n",
    "import numpy as np\n",
    "\n",
    "from keras.models import Sequential\n",
    "from keras.layers.core import Dense, Dropout, Activation, Flatten, Reshape, Merge\n",
    "from keras.layers.embeddings import Embedding\n",
    "from keras.layers.convolutional import Convolution2D, MaxPooling2D\n",
    "from keras.optimizers import SGD, Adadelta\n",
    "from keras.constraints import unitnorm, maxnorm\n",
    "from keras.regularizers import l2\n",
    "from keras.layers.advanced_activations import PReLU\n",
    "from keras.preprocessing import sequence\n",
    "\n",
    "from keras.layers import Dense, Dropout, Activation, Embedding\n",
    "from keras.layers import LSTM, SimpleRNN, GRU\n",
    "\n",
    "from sklearn.metrics import roc_auc_score\n",
    "\n",
    "# This import to resolve some errors with tf version on office server\n",
    "import tensorflow as tf\n",
    "tf.python.control_flow_ops = tf"
   ]
  },
  {
   "cell_type": "code",
   "execution_count": 2,
   "metadata": {
    "collapsed": false
   },
   "outputs": [],
   "source": [
    "x = cPickle.load(open('text-w-map-vocab.pickle', 'rb'))\n",
    "revs, W, word_idx_map, vocab = x[0], x[1], x[2], x[3]"
   ]
  },
  {
   "cell_type": "code",
   "execution_count": 3,
   "metadata": {
    "collapsed": true
   },
   "outputs": [],
   "source": [
    "datasets = cPickle.load(open(\"train-test-val.pickle\", \"rb\"))"
   ]
  },
  {
   "cell_type": "code",
   "execution_count": 4,
   "metadata": {
    "collapsed": true
   },
   "outputs": [],
   "source": [
    "train, val, test = datasets[0], datasets[1], datasets[2]\n",
    "y_helpful_train, y_helpful_val, y_helpful_test =datasets[3], datasets[4], datasets[5]\n",
    "y_helpful_cat_train, y_helpful_cat_val, y_helpful_cat_test = datasets[6], datasets[7], datasets[8]\n",
    "y_staff_train, y_staff_val, y_staff_test = datasets[9], datasets[10], datasets[11]\n",
    "y_staff_cat_train, y_staff_cat_val, y_staff_cat_test = datasets[12], datasets[13], datasets[14]\n",
    "y_knowledge_train, y_knowledge_val, y_knowledge_test = datasets[15], datasets[16], datasets[17]\n",
    "y_knowledge_cat_train, y_knowledge_cat_val, y_knowledge_cat_test = datasets[18], datasets[19], datasets[20]"
   ]
  },
  {
   "cell_type": "code",
   "execution_count": 5,
   "metadata": {
    "collapsed": false
   },
   "outputs": [
    {
     "name": "stdout",
     "output_type": "stream",
     "text": [
      "Build model...\n"
     ]
    }
   ],
   "source": [
    "print('Build model...')\n",
    "model = Sequential()\n",
    "model.add(Embedding(len(vocab)+1, 300, dropout=0.2, mask_zero=True))\n",
    "model.add(LSTM(300, dropout_W=0.2, dropout_U=0.2))  # try using a GRU instead, for fun\n",
    "model.add(Dense(1))\n",
    "model.add(Activation('sigmoid'))\n",
    "\n",
    "# try using different optimizers and different optimizer configs\n",
    "model.compile(loss='binary_crossentropy',\n",
    "              optimizer='adagrad',\n",
    "              metrics=['accuracy'])"
   ]
  },
  {
   "cell_type": "code",
   "execution_count": 6,
   "metadata": {
    "collapsed": false
   },
   "outputs": [
    {
     "name": "stdout",
     "output_type": "stream",
     "text": [
      "Train...\n"
     ]
    },
    {
     "name": "stderr",
     "output_type": "stream",
     "text": [
      "/usr/lib/python2.7/site-packages/tensorflow/python/ops/gradients.py:90: UserWarning: Converting sparse IndexedSlices to a dense Tensor of unknown shape. This may consume a large amount of memory.\n",
      "  \"Converting sparse IndexedSlices to a dense Tensor of unknown shape. \"\n"
     ]
    },
    {
     "name": "stdout",
     "output_type": "stream",
     "text": [
      "Train on 27151 samples, validate on 6849 samples\n",
      "Epoch 1/10\n",
      "27151/27151 [==============================] - 1922s - loss: 0.4111 - acc: 0.8093 - val_loss: 0.2811 - val_acc: 0.8771\n",
      "Epoch 2/10\n",
      "27151/27151 [==============================] - 1813s - loss: 0.2820 - acc: 0.8744 - val_loss: 0.2404 - val_acc: 0.8896\n",
      "Epoch 3/10\n",
      "27151/27151 [==============================] - 1808s - loss: 0.2412 - acc: 0.8944 - val_loss: 0.2394 - val_acc: 0.8936\n",
      "Epoch 4/10\n",
      "27151/27151 [==============================] - 1819s - loss: 0.2204 - acc: 0.9045 - val_loss: 0.2362 - val_acc: 0.8963\n",
      "Epoch 5/10\n",
      "27151/27151 [==============================] - 1819s - loss: 0.2056 - acc: 0.9104 - val_loss: 0.2440 - val_acc: 0.8959\n",
      "Epoch 6/10\n",
      "27151/27151 [==============================] - 1800s - loss: 0.1908 - acc: 0.9176 - val_loss: 0.2332 - val_acc: 0.9007\n",
      "Epoch 7/10\n",
      "27151/27151 [==============================] - 1841s - loss: 0.1830 - acc: 0.9201 - val_loss: 0.2296 - val_acc: 0.9022\n",
      "Epoch 8/10\n",
      "27151/27151 [==============================] - 1773s - loss: 0.1740 - acc: 0.9249 - val_loss: 0.2412 - val_acc: 0.8990\n",
      "Epoch 9/10\n",
      "27151/27151 [==============================] - 1781s - loss: 0.1628 - acc: 0.9279 - val_loss: 0.3747 - val_acc: 0.8870\n",
      "Epoch 10/10\n",
      "27151/27151 [==============================] - 1786s - loss: 0.1543 - acc: 0.9323 - val_loss: 0.2668 - val_acc: 0.8963\n",
      "4200/4200 [==============================] - 81s    \n",
      "('Test score:', 0.2580619529333143)\n",
      "('Test accuracy:', 0.90166666181314559)\n"
     ]
    }
   ],
   "source": [
    "print('Train...')\n",
    "model.fit(train, y_helpful_train, batch_size=50, nb_epoch=10,validation_data=(val, y_helpful_val))\n",
    "score, acc = model.evaluate(test, y_helpful_test,\n",
    "                            batch_size=50)\n",
    "print('Test score:', score)\n",
    "print('Test accuracy:', acc)"
   ]
  },
  {
   "cell_type": "code",
   "execution_count": 7,
   "metadata": {
    "collapsed": false
   },
   "outputs": [
    {
     "name": "stdout",
     "output_type": "stream",
     "text": [
      "Build model...\n"
     ]
    }
   ],
   "source": [
    "print('Build model...')\n",
    "model = Sequential()\n",
    "model.add(Embedding(len(vocab)+1, 300, dropout=0.2, mask_zero=True))\n",
    "model.add(LSTM(300, dropout_W=0.2, dropout_U=0.2))  # try using a GRU instead, for fun\n",
    "model.add(Dense(1))\n",
    "model.add(Activation('sigmoid'))\n",
    "\n",
    "# try using different optimizers and different optimizer configs\n",
    "model.compile(loss='binary_crossentropy',\n",
    "              optimizer='adagrad',\n",
    "              metrics=['accuracy'])"
   ]
  },
  {
   "cell_type": "code",
   "execution_count": 8,
   "metadata": {
    "collapsed": false
   },
   "outputs": [
    {
     "name": "stdout",
     "output_type": "stream",
     "text": [
      "Train...\n",
      "Train on 27151 samples, validate on 6849 samples\n",
      "Epoch 1/10\n",
      "27151/27151 [==============================] - 1763s - loss: 0.4297 - acc: 0.7948 - val_loss: 0.3235 - val_acc: 0.8381\n",
      "Epoch 2/10\n",
      "27151/27151 [==============================] - 1805s - loss: 0.3347 - acc: 0.8410 - val_loss: 0.3064 - val_acc: 0.8483\n",
      "Epoch 3/10\n",
      "27151/27151 [==============================] - 1803s - loss: 0.3002 - acc: 0.8621 - val_loss: 0.3000 - val_acc: 0.8531\n",
      "Epoch 4/10\n",
      "27151/27151 [==============================] - 1818s - loss: 0.2737 - acc: 0.8766 - val_loss: 0.3067 - val_acc: 0.8525\n",
      "Epoch 5/10\n",
      "27151/27151 [==============================] - 1834s - loss: 0.2565 - acc: 0.8874 - val_loss: 0.4018 - val_acc: 0.8400\n",
      "Epoch 6/10\n",
      "27151/27151 [==============================] - 1839s - loss: 0.2339 - acc: 0.9007 - val_loss: 0.3254 - val_acc: 0.8533\n",
      "Epoch 7/10\n",
      "27151/27151 [==============================] - 1888s - loss: 0.2192 - acc: 0.9070 - val_loss: 0.3390 - val_acc: 0.8533\n",
      "Epoch 8/10\n",
      "27151/27151 [==============================] - 1899s - loss: 0.1999 - acc: 0.9155 - val_loss: 0.3235 - val_acc: 0.8536\n",
      "Epoch 9/10\n",
      "27151/27151 [==============================] - 1910s - loss: 0.1873 - acc: 0.9221 - val_loss: 0.3839 - val_acc: 0.8512\n",
      "Epoch 10/10\n",
      "27151/27151 [==============================] - 1913s - loss: 0.1729 - acc: 0.9299 - val_loss: 0.3667 - val_acc: 0.8470\n",
      "4200/4200 [==============================] - 83s    \n",
      "('Test score:', 0.38369254280059112)\n",
      "('Test accuracy:', 0.84404761450631283)\n"
     ]
    }
   ],
   "source": [
    "print('Train...')\n",
    "model.fit(train, y_staff_train, batch_size=50, nb_epoch=10,validation_data=(val, y_staff_val))\n",
    "score, acc = model.evaluate(test, y_staff_test,\n",
    "                            batch_size=50)\n",
    "print('Test score:', score)\n",
    "print('Test accuracy:', acc)"
   ]
  },
  {
   "cell_type": "code",
   "execution_count": 9,
   "metadata": {
    "collapsed": false
   },
   "outputs": [
    {
     "name": "stdout",
     "output_type": "stream",
     "text": [
      "Build model...\n"
     ]
    }
   ],
   "source": [
    "print('Build model...')\n",
    "model = Sequential()\n",
    "model.add(Embedding(len(vocab)+1, 300, dropout=0.2, mask_zero=True))\n",
    "model.add(LSTM(300, dropout_W=0.2, dropout_U=0.2))  # try using a GRU instead, for fun\n",
    "model.add(Dense(1))\n",
    "model.add(Activation('sigmoid'))\n",
    "\n",
    "# try using different optimizers and different optimizer configs\n",
    "model.compile(loss='binary_crossentropy',\n",
    "              optimizer='adagrad',\n",
    "              metrics=['accuracy'])"
   ]
  },
  {
   "cell_type": "code",
   "execution_count": 10,
   "metadata": {
    "collapsed": false
   },
   "outputs": [
    {
     "name": "stdout",
     "output_type": "stream",
     "text": [
      "Train...\n",
      "Train on 27151 samples, validate on 6849 samples\n",
      "Epoch 1/10\n",
      "27151/27151 [==============================] - 1882s - loss: 0.4127 - acc: 0.8017 - val_loss: 0.2863 - val_acc: 0.8692\n",
      "Epoch 2/10\n",
      "27151/27151 [==============================] - 1871s - loss: 0.3001 - acc: 0.8596 - val_loss: 0.2764 - val_acc: 0.8725\n",
      "Epoch 3/10\n",
      "27151/27151 [==============================] - 1872s - loss: 0.2626 - acc: 0.8799 - val_loss: 0.3011 - val_acc: 0.8569\n",
      "Epoch 4/10\n",
      "27151/27151 [==============================] - 1870s - loss: 0.2440 - acc: 0.8900 - val_loss: 0.2919 - val_acc: 0.8741\n",
      "Epoch 5/10\n",
      "27151/27151 [==============================] - 2500s - loss: 0.2284 - acc: 0.8963 - val_loss: 0.2758 - val_acc: 0.8774\n",
      "Epoch 6/10\n",
      "27151/27151 [==============================] - 2981s - loss: 0.2140 - acc: 0.9024 - val_loss: 0.2781 - val_acc: 0.8774\n",
      "Epoch 7/10\n",
      "27151/27151 [==============================] - 3047s - loss: 0.2021 - acc: 0.9093 - val_loss: 0.2939 - val_acc: 0.8714\n",
      "Epoch 8/10\n",
      "27151/27151 [==============================] - 2888s - loss: 0.1899 - acc: 0.9165 - val_loss: 0.2844 - val_acc: 0.8741\n",
      "Epoch 9/10\n",
      "27151/27151 [==============================] - 2709s - loss: 0.1790 - acc: 0.9196 - val_loss: 0.2935 - val_acc: 0.8708\n",
      "Epoch 10/10\n",
      "27151/27151 [==============================] - 2663s - loss: 0.1687 - acc: 0.9258 - val_loss: 0.3140 - val_acc: 0.8708\n",
      "4200/4200 [==============================] - 119s   \n",
      "('Test score:', 0.31089209898241926)\n",
      "('Test accuracy:', 0.86952380552178332)\n"
     ]
    }
   ],
   "source": [
    "print('Train...')\n",
    "model.fit(train, y_knowledge_train, batch_size=50, nb_epoch=10,validation_data=(val, y_knowledge_val))\n",
    "score, acc = model.evaluate(test, y_knowledge_test,\n",
    "                            batch_size=50)\n",
    "print('Test score:', score)\n",
    "print('Test accuracy:', acc)"
   ]
  }
 ],
 "metadata": {
  "kernelspec": {
   "display_name": "Python 2",
   "language": "python",
   "name": "python2"
  },
  "language_info": {
   "codemirror_mode": {
    "name": "ipython",
    "version": 2
   },
   "file_extension": ".py",
   "mimetype": "text/x-python",
   "name": "python",
   "nbconvert_exporter": "python",
   "pygments_lexer": "ipython2",
   "version": "2.7.5"
  }
 },
 "nbformat": 4,
 "nbformat_minor": 1
}
