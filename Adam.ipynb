{
 "cells": [
  {
   "cell_type": "code",
   "execution_count": 1,
   "metadata": {
    "collapsed": false
   },
   "outputs": [
    {
     "name": "stderr",
     "output_type": "stream",
     "text": [
      "Using TensorFlow backend.\n"
     ]
    }
   ],
   "source": [
    "import cPickle\n",
    "import numpy as np\n",
    "\n",
    "from keras.models import Sequential\n",
    "from keras.layers.core import Dense, Dropout, Activation, Flatten, Reshape, Merge\n",
    "from keras.layers.embeddings import Embedding\n",
    "from keras.layers.convolutional import Convolution2D, MaxPooling2D\n",
    "from keras.optimizers import SGD, Adadelta\n",
    "from keras.constraints import unitnorm, maxnorm\n",
    "from keras.regularizers import l2\n",
    "from keras.layers.advanced_activations import PReLU\n",
    "from keras.preprocessing import sequence\n",
    "\n",
    "from keras.layers import Dense, Dropout, Activation, Embedding\n",
    "from keras.layers import LSTM, SimpleRNN, GRU\n",
    "\n",
    "from sklearn.metrics import roc_auc_score\n",
    "\n",
    "# This import to resolve some errors with tf version on office server\n",
    "import tensorflow as tf\n",
    "tf.python.control_flow_ops = tf"
   ]
  },
  {
   "cell_type": "code",
   "execution_count": 3,
   "metadata": {
    "collapsed": true
   },
   "outputs": [],
   "source": [
    "x = cPickle.load(open('text-w-map-vocab.pickle', 'rb'))\n",
    "revs, W, word_idx_map, vocab = x[0], x[1], x[2], x[3]"
   ]
  },
  {
   "cell_type": "code",
   "execution_count": 2,
   "metadata": {
    "collapsed": true
   },
   "outputs": [],
   "source": [
    "datasets = cPickle.load(open(\"train-test-val.pickle\", \"rb\"))"
   ]
  },
  {
   "cell_type": "code",
   "execution_count": 4,
   "metadata": {
    "collapsed": false
   },
   "outputs": [],
   "source": [
    "train, val, test = datasets[0], datasets[1], datasets[2]\n",
    "y_helpful_train, y_helpful_val, y_helpful_test =datasets[3], datasets[4], datasets[5]\n",
    "y_helpful_cat_train, y_helpful_cat_val, y_helpful_cat_test = datasets[6], datasets[7], datasets[8]\n",
    "y_staff_train, y_staff_val, y_staff_test = datasets[9], datasets[10], datasets[11]\n",
    "y_staff_cat_train, y_staff_cat_val, y_staff_cat_test = datasets[12], datasets[13], datasets[14]\n",
    "y_knowledge_train, y_knowledge_val, y_knowledge_test = datasets[15], datasets[16], datasets[17]\n",
    "y_knowledge_cat_train, y_knowledge_cat_val, y_knowledge_cat_test = datasets[18], datasets[19], datasets[20]"
   ]
  },
  {
   "cell_type": "code",
   "execution_count": 31,
   "metadata": {
    "collapsed": false
   },
   "outputs": [
    {
     "name": "stdout",
     "output_type": "stream",
     "text": [
      "Build model...\n"
     ]
    }
   ],
   "source": [
    "print('Build model...')\n",
    "model = Sequential()\n",
    "model.add(Embedding(len(vocab)+1, 300, dropout=0.2, mask_zero=True))\n",
    "model.add(LSTM(300, dropout_W=0.2, dropout_U=0.2))  # try using a GRU instead, for fun\n",
    "model.add(Dense(1))\n",
    "model.add(Activation('sigmoid'))\n",
    "\n",
    "# try using different optimizers and different optimizer configs\n",
    "model.compile(loss='binary_crossentropy',\n",
    "              optimizer='adam',\n",
    "              metrics=['accuracy'])"
   ]
  },
  {
   "cell_type": "code",
   "execution_count": 32,
   "metadata": {
    "collapsed": false
   },
   "outputs": [
    {
     "name": "stdout",
     "output_type": "stream",
     "text": [
      "Train...\n",
      "Train on 27151 samples, validate on 6849 samples\n",
      "Epoch 1/15\n",
      "27151/27151 [==============================] - 1158s - loss: 0.3962 - acc: 0.8130 - val_loss: 0.2541 - val_acc: 0.8911\n",
      "Epoch 2/15\n",
      "27151/27151 [==============================] - 1158s - loss: 0.2557 - acc: 0.8873 - val_loss: 0.2327 - val_acc: 0.8974\n",
      "Epoch 3/15\n",
      "27151/27151 [==============================] - 1151s - loss: 0.2199 - acc: 0.9012 - val_loss: 0.2478 - val_acc: 0.8931\n",
      "Epoch 4/15\n",
      "27151/27151 [==============================] - 1163s - loss: 0.1793 - acc: 0.9213 - val_loss: 0.2463 - val_acc: 0.8972\n",
      "Epoch 5/15\n",
      "27151/27151 [==============================] - 1146s - loss: 0.1434 - acc: 0.9362 - val_loss: 0.2439 - val_acc: 0.9010\n",
      "Epoch 6/15\n",
      "27151/27151 [==============================] - 1239s - loss: 0.1217 - acc: 0.9447 - val_loss: 0.2578 - val_acc: 0.9013\n",
      "Epoch 7/15\n",
      "27151/27151 [==============================] - 1909s - loss: 0.1083 - acc: 0.9491 - val_loss: 0.2962 - val_acc: 0.8968\n",
      "Epoch 8/15\n",
      "27151/27151 [==============================] - 1813s - loss: 0.0976 - acc: 0.9535 - val_loss: 0.2921 - val_acc: 0.8931\n",
      "Epoch 9/15\n",
      "27151/27151 [==============================] - 1812s - loss: 0.0894 - acc: 0.9567 - val_loss: 0.3221 - val_acc: 0.8928\n",
      "Epoch 10/15\n",
      "27151/27151 [==============================] - 1830s - loss: 0.0823 - acc: 0.9588 - val_loss: 0.3554 - val_acc: 0.8928\n",
      "Epoch 11/15\n",
      "27151/27151 [==============================] - 1812s - loss: 0.0803 - acc: 0.9605 - val_loss: 0.3399 - val_acc: 0.8918\n",
      "Epoch 12/15\n",
      "27151/27151 [==============================] - 1815s - loss: 0.0725 - acc: 0.9636 - val_loss: 0.3298 - val_acc: 0.8844\n",
      "Epoch 13/15\n",
      "27151/27151 [==============================] - 1837s - loss: 0.0711 - acc: 0.9645 - val_loss: 0.3559 - val_acc: 0.8885\n",
      "Epoch 14/15\n",
      "27151/27151 [==============================] - 1781s - loss: 0.0681 - acc: 0.9642 - val_loss: 0.3602 - val_acc: 0.8877\n",
      "Epoch 15/15\n",
      "27151/27151 [==============================] - 1786s - loss: 0.0668 - acc: 0.9660 - val_loss: 0.3650 - val_acc: 0.8912\n",
      "4200/4200 [==============================] - 81s    \n",
      "('Test score:', 0.32838263355993796)\n",
      "('Test accuracy:', 0.8966666616144634)\n"
     ]
    }
   ],
   "source": [
    "print('Train...')\n",
    "model.fit(train, y_helpful_train, batch_size=50, nb_epoch=15,validation_data=(val, y_helpful_val))\n",
    "score, acc = model.evaluate(test, y_helpful_test,\n",
    "                            batch_size=50)\n",
    "print('Test score:', score)\n",
    "print('Test accuracy:', acc)"
   ]
  },
  {
   "cell_type": "code",
   "execution_count": 5,
   "metadata": {
    "collapsed": false
   },
   "outputs": [
    {
     "name": "stdout",
     "output_type": "stream",
     "text": [
      "Build model...\n"
     ]
    }
   ],
   "source": [
    "print('Build model...')\n",
    "model = Sequential()\n",
    "model.add(Embedding(len(vocab)+1, 300, dropout=0.2, mask_zero=True))\n",
    "model.add(LSTM(300, dropout_W=0.2, dropout_U=0.2))  # try using a GRU instead, for fun\n",
    "model.add(Dense(1))\n",
    "model.add(Activation('sigmoid'))\n",
    "\n",
    "# try using different optimizers and different optimizer configs\n",
    "model.compile(loss='binary_crossentropy',\n",
    "              optimizer='adam',\n",
    "              metrics=['accuracy'])"
   ]
  },
  {
   "cell_type": "code",
   "execution_count": 6,
   "metadata": {
    "collapsed": false
   },
   "outputs": [
    {
     "name": "stdout",
     "output_type": "stream",
     "text": [
      "Train...\n"
     ]
    },
    {
     "name": "stderr",
     "output_type": "stream",
     "text": [
      "/usr/lib/python2.7/site-packages/tensorflow/python/ops/gradients.py:90: UserWarning: Converting sparse IndexedSlices to a dense Tensor of unknown shape. This may consume a large amount of memory.\n",
      "  \"Converting sparse IndexedSlices to a dense Tensor of unknown shape. \"\n"
     ]
    },
    {
     "name": "stdout",
     "output_type": "stream",
     "text": [
      "Train on 27151 samples, validate on 6849 samples\n",
      "Epoch 1/10\n",
      "27151/27151 [==============================] - 1823s - loss: 0.4296 - acc: 0.7950 - val_loss: 0.3343 - val_acc: 0.8373\n",
      "Epoch 2/10\n",
      "27151/27151 [==============================] - 1818s - loss: 0.3296 - acc: 0.8457 - val_loss: 0.3191 - val_acc: 0.8400\n",
      "Epoch 3/10\n",
      "27151/27151 [==============================] - 1815s - loss: 0.2779 - acc: 0.8748 - val_loss: 0.3219 - val_acc: 0.8420\n",
      "Epoch 4/10\n",
      "27151/27151 [==============================] - 1840s - loss: 0.2318 - acc: 0.9013 - val_loss: 0.3331 - val_acc: 0.8524\n",
      "Epoch 5/10\n",
      "27151/27151 [==============================] - 1839s - loss: 0.1961 - acc: 0.9167 - val_loss: 0.3533 - val_acc: 0.8448\n",
      "Epoch 6/10\n",
      "27151/27151 [==============================] - 1889s - loss: 0.1623 - acc: 0.9328 - val_loss: 0.4140 - val_acc: 0.8445\n",
      "Epoch 7/10\n",
      "27151/27151 [==============================] - 1904s - loss: 0.1364 - acc: 0.9423 - val_loss: 0.4966 - val_acc: 0.8372\n",
      "Epoch 8/10\n",
      "27151/27151 [==============================] - 1911s - loss: 0.1235 - acc: 0.9472 - val_loss: 0.4708 - val_acc: 0.8394\n",
      "Epoch 9/10\n",
      "27151/27151 [==============================] - 1918s - loss: 0.1127 - acc: 0.9528 - val_loss: 0.4777 - val_acc: 0.8417\n",
      "Epoch 10/10\n",
      "27151/27151 [==============================] - 1886s - loss: 0.1029 - acc: 0.9560 - val_loss: 0.5742 - val_acc: 0.8382\n",
      "4200/4200 [==============================] - 83s    \n",
      "('Test score:', 0.57881368652340914)\n",
      "('Test accuracy:', 0.83333332765670054)\n"
     ]
    }
   ],
   "source": [
    "print('Train...')\n",
    "model.fit(train, y_staff_train, batch_size=50, nb_epoch=10,validation_data=(val, y_staff_val))\n",
    "score, acc = model.evaluate(test, y_staff_test,\n",
    "                            batch_size=50)\n",
    "print('Test score:', score)\n",
    "print('Test accuracy:', acc)"
   ]
  },
  {
   "cell_type": "code",
   "execution_count": 7,
   "metadata": {
    "collapsed": false
   },
   "outputs": [
    {
     "name": "stdout",
     "output_type": "stream",
     "text": [
      "Build model...\n"
     ]
    }
   ],
   "source": [
    "print('Build model...')\n",
    "model = Sequential()\n",
    "model.add(Embedding(len(vocab)+1, 300, dropout=0.2, mask_zero=True))\n",
    "model.add(LSTM(300, dropout_W=0.2, dropout_U=0.2))  # try using a GRU instead, for fun\n",
    "model.add(Dense(1))\n",
    "model.add(Activation('sigmoid'))\n",
    "\n",
    "# try using different optimizers and different optimizer configs\n",
    "model.compile(loss='binary_crossentropy',\n",
    "              optimizer='adam',\n",
    "              metrics=['accuracy'])"
   ]
  },
  {
   "cell_type": "code",
   "execution_count": 8,
   "metadata": {
    "collapsed": false
   },
   "outputs": [
    {
     "name": "stdout",
     "output_type": "stream",
     "text": [
      "Train...\n",
      "Train on 27151 samples, validate on 6849 samples\n",
      "Epoch 1/10\n",
      "27151/27151 [==============================] - 1878s - loss: 0.4118 - acc: 0.8030 - val_loss: 0.2810 - val_acc: 0.8689\n",
      "Epoch 2/10\n",
      "27151/27151 [==============================] - 1880s - loss: 0.2911 - acc: 0.8617 - val_loss: 0.2657 - val_acc: 0.8725\n",
      "Epoch 3/10\n",
      "27151/27151 [==============================] - 1878s - loss: 0.2408 - acc: 0.8894 - val_loss: 0.2769 - val_acc: 0.8682\n",
      "Epoch 4/10\n",
      "27151/27151 [==============================] - 2452s - loss: 0.2021 - acc: 0.9076 - val_loss: 0.3013 - val_acc: 0.8673\n",
      "Epoch 5/10\n",
      "27151/27151 [==============================] - 2955s - loss: 0.1681 - acc: 0.9228 - val_loss: 0.2967 - val_acc: 0.8693\n",
      "Epoch 6/10\n",
      "27151/27151 [==============================] - 3065s - loss: 0.1389 - acc: 0.9367 - val_loss: 0.3427 - val_acc: 0.8619\n",
      "Epoch 7/10\n",
      "27151/27151 [==============================] - 2896s - loss: 0.1189 - acc: 0.9446 - val_loss: 0.3641 - val_acc: 0.8559\n",
      "Epoch 8/10\n",
      "27151/27151 [==============================] - 2713s - loss: 0.1073 - acc: 0.9495 - val_loss: 0.3869 - val_acc: 0.8538\n",
      "Epoch 9/10\n",
      "27151/27151 [==============================] - 2667s - loss: 0.0944 - acc: 0.9543 - val_loss: 0.4123 - val_acc: 0.8578\n",
      "Epoch 10/10\n",
      "27151/27151 [==============================] - 2002s - loss: 0.0878 - acc: 0.9578 - val_loss: 0.4840 - val_acc: 0.8582\n",
      "4200/4200 [==============================] - 85s    \n",
      "('Test score:', 0.48877782374620438)\n",
      "('Test accuracy:', 0.85666666428248084)\n"
     ]
    }
   ],
   "source": [
    "print('Train...')\n",
    "model.fit(train, y_knowledge_train, batch_size=50, nb_epoch=10,validation_data=(val, y_knowledge_val))\n",
    "score, acc = model.evaluate(test, y_knowledge_test,\n",
    "                            batch_size=50)\n",
    "print('Test score:', score)\n",
    "print('Test accuracy:', acc)"
   ]
  },
  {
   "cell_type": "code",
   "execution_count": null,
   "metadata": {
    "collapsed": true
   },
   "outputs": [],
   "source": []
  }
 ],
 "metadata": {
  "kernelspec": {
   "display_name": "Python 2",
   "language": "python",
   "name": "python2"
  },
  "language_info": {
   "codemirror_mode": {
    "name": "ipython",
    "version": 2
   },
   "file_extension": ".py",
   "mimetype": "text/x-python",
   "name": "python",
   "nbconvert_exporter": "python",
   "pygments_lexer": "ipython2",
   "version": "2.7.5"
  }
 },
 "nbformat": 4,
 "nbformat_minor": 1
}
