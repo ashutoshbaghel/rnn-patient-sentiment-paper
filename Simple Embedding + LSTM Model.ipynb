{
 "cells": [
  {
   "cell_type": "code",
   "execution_count": 1,
   "metadata": {
    "collapsed": false,
    "scrolled": true
   },
   "outputs": [
    {
     "name": "stdout",
     "output_type": "stream",
     "text": [
      "/abaghel/projects/rnn-patient-sentiment-paper\n"
     ]
    }
   ],
   "source": [
    "import os\n",
    "print os.getcwd()"
   ]
  },
  {
   "cell_type": "code",
   "execution_count": 2,
   "metadata": {
    "collapsed": false
   },
   "outputs": [
    {
     "name": "stderr",
     "output_type": "stream",
     "text": [
      "Using TensorFlow backend.\n"
     ]
    }
   ],
   "source": [
    "import cPickle\n",
    "import numpy as np\n",
    "\n",
    "from keras.models import Sequential\n",
    "from keras.layers.core import Dense, Dropout, Activation, Flatten, Reshape, Merge\n",
    "from keras.layers.embeddings import Embedding\n",
    "from keras.layers.convolutional import Convolution2D, MaxPooling2D\n",
    "from keras.optimizers import SGD, Adadelta\n",
    "from keras.constraints import unitnorm, maxnorm\n",
    "from keras.regularizers import l2\n",
    "from keras.layers.advanced_activations import PReLU\n",
    "from keras.preprocessing import sequence\n",
    "\n",
    "from keras.layers import Dense, Dropout, Activation, Embedding\n",
    "from keras.layers import LSTM, SimpleRNN, GRU\n",
    "\n",
    "from sklearn.metrics import roc_auc_score\n",
    "\n",
    "# This import to resolve some errors with tf version on office server\n",
    "import tensorflow as tf\n",
    "tf.python.control_flow_ops = tf"
   ]
  },
  {
   "cell_type": "markdown",
   "metadata": {},
   "source": [
    "#  Simple Preprocessing without word2vec"
   ]
  },
  {
   "cell_type": "code",
   "execution_count": 4,
   "metadata": {
    "collapsed": true
   },
   "outputs": [],
   "source": [
    "import csv\n",
    "import os\n",
    "import numpy as np\n",
    "import pandas as pd\n",
    "import cPickle\n",
    "from collections import defaultdict\n",
    "import re\n",
    "\n",
    "\n",
    "def RepresentsInt(s):\n",
    "    try: \n",
    "        int(s)\n",
    "        return True\n",
    "    except ValueError:\n",
    "        return False\n",
    "\n",
    "     \n",
    "def build_data_train_test(train_ratio = 0.8, clean_string=True):\n",
    "    \"\"\"\n",
    "    Loads data and split into train and test sets.\n",
    "    \"\"\"\n",
    "    revs = []\n",
    "    vocab = defaultdict(float)\n",
    "    # Pre-process train data set\n",
    "    for i in xrange(len(text_train)):\n",
    "        line = text_train[i]\n",
    "        y = helpfull_train[i]\n",
    "        y_cat = np.zeros(5)\n",
    "        y_cat[helpful_cat_train[i]] =1\n",
    "        rev = []\n",
    "        rev.append(line.strip())\n",
    "        if clean_string:\n",
    "            orig_rev = clean_str(' '.join(rev))\n",
    "        else:\n",
    "            orig_rev = ' '.join(rev).lower()\n",
    "        words = set(orig_rev.split())\n",
    "        for word in words:\n",
    "            vocab[word] += 1\n",
    "        datum  = {'y': y, \n",
    "                  'y_cat': y_cat,\n",
    "                  'text': orig_rev,\n",
    "                  'num_words': len(orig_rev.split()),\n",
    "                  'split': int(np.random.rand() < train_ratio)}\n",
    "        revs.append(datum)\n",
    "    # Pre-process test data set\n",
    "    for i in xrange(len(text_test)):\n",
    "        line = text_test[i]\n",
    "        y = helpfull_test[i]    \n",
    "        y_cat = np.zeros(5)\n",
    "        y_cat[helpful_cat_test[i]] =1\n",
    "        rev = []\n",
    "        rev.append(line.strip())\n",
    "        if clean_string:\n",
    "            orig_rev = clean_str(' '.join(rev))\n",
    "        else:\n",
    "            orig_rev = ' '.join(rev).lower()\n",
    "        words = set(orig_rev.split())\n",
    "        for word in words:\n",
    "            vocab[word] += 1\n",
    "        datum  = {'y': y, \n",
    "                  'y_cat': y_cat,\n",
    "                  'text': orig_rev,\n",
    "                  'num_words': len(orig_rev.split()),\n",
    "                  'split': -1}\n",
    "        revs.append(datum)      \n",
    "    return revs, vocab\n"
   ]
  },
  {
   "cell_type": "code",
   "execution_count": 5,
   "metadata": {
    "collapsed": false
   },
   "outputs": [
    {
     "name": "stdout",
     "output_type": "stream",
     "text": [
      "38200\n",
      "38200\n",
      "38200\n"
     ]
    }
   ],
   "source": [
    "text=[]\n",
    "helpfull=[]\n",
    "helpful_categorical = []\n",
    "knowledge=[]\n",
    "staff=[]\n",
    "ii=0\n",
    "jj=0\n",
    "files = [os.path.join(\"data/\", f) for f in os.listdir('data/') if os.path.isfile(os.path.join(\"data/\", f))]\n",
    "for f in files:\n",
    "    if f.endswith(\".txt\"):\n",
    "        with open(f) as tsv:\n",
    "            for line in csv.reader(tsv, dialect=\"excel-tab\"):\n",
    "                ii=ii+1\n",
    "                if(len(line) > 6 and RepresentsInt(line[3]) and RepresentsInt(line[5]) and RepresentsInt(line[6]) ):\n",
    "                    jj=jj+1\n",
    "                    if int(line[5])>=3:\n",
    "                        helpfull.append(int(1))\n",
    "                    elif int(line[5])<3:\n",
    "                        helpfull.append(int(0))\n",
    "                    text.append(line[2])\n",
    "                    helpful_categorical.append(int(line[5])-1)\n",
    "                    #knowledge.append(int(line[6])-1)\n",
    "                    #staff.append(int(line[3])-1)\n",
    "    \n",
    "        \n",
    "        \n",
    "print len(helpfull)\n",
    "print len(helpful_categorical)\n",
    "print len(text)\n",
    "text_train=text[:34000]\n",
    "text_test=text[34000:]\n",
    "\n",
    "helpfull_train=helpfull[:34000]\n",
    "helpfull_test=helpfull[34000:]\n",
    "\n",
    "helpful_cat_train=helpful_categorical[:34000]\n",
    "helpful_cat_test=helpful_categorical[34000:]\n"
   ]
  },
  {
   "cell_type": "code",
   "execution_count": 6,
   "metadata": {
    "collapsed": false
   },
   "outputs": [
    {
     "name": "stdout",
     "output_type": "stream",
     "text": [
      "[4, 4, 4, 4, 4, 4, 4, 0, 4, 4, 4, 4, 4, 0, 4]\n"
     ]
    }
   ],
   "source": [
    "print helpful_categorical[0:15]"
   ]
  },
  {
   "cell_type": "code",
   "execution_count": 7,
   "metadata": {
    "collapsed": false
   },
   "outputs": [],
   "source": [
    "def get_W(word_vecs, k=300):\n",
    "    \"\"\"\n",
    "    Get word matrix. W[i] is the vector for word indexed by i\n",
    "    \"\"\"\n",
    "    vocab_size = len(word_vecs)\n",
    "    word_idx_map = dict()\n",
    "    W = np.zeros(shape=(vocab_size+1, k), dtype=np.float32)\n",
    "    W[0] = np.zeros(k, dtype=np.float32)\n",
    "    i = 1\n",
    "    for word in word_vecs:\n",
    "        W[i] = word_vecs[word]\n",
    "        word_idx_map[word] = i\n",
    "        i += 1\n",
    "    return W, word_idx_map\n",
    "\n",
    "def load_bin_vec(fname, vocab):\n",
    "    \"\"\"\n",
    "    Loads 300x1 word vecs from Google (Mikolov) word2vec\n",
    "    \"\"\"\n",
    "    word_vecs = {}\n",
    "    with open(fname, 'rb') as f:\n",
    "        header = f.readline()\n",
    "        print header\n",
    "        vocab_size, layer1_size = map(int, header.split())\n",
    "        binary_len = np.dtype('float32').itemsize * layer1_size\n",
    "        print vocab_size*2/3\n",
    "        for line in xrange(int(vocab_size*2.5/3)):\n",
    "            #print line\n",
    "            word = []\n",
    "            while True:\n",
    "                ch = f.read(1)\n",
    "                if ch == ' ':\n",
    "                    word = ''.join(word)\n",
    "                    break\n",
    "                if ch != '\\n':\n",
    "                    word.append(ch)   \n",
    "            if word in vocab:\n",
    "                word_vecs[word] = np.fromstring(f.read(binary_len), dtype='float32')  \n",
    "            else:\n",
    "                f.read(binary_len)\n",
    "            if (line%100000==0):\n",
    "                print line\n",
    "    return word_vecs\n",
    "\n",
    "def add_unknown_words(word_vecs, vocab, min_df=1, k=300):\n",
    "    \"\"\"\n",
    "    For words that occur in at least min_df documents, create a separate word vector.    \n",
    "    0.25 is chosen so the unknown vectors have (approximately) same variance as pre-trained ones\n",
    "    \"\"\"\n",
    "    for word in vocab:\n",
    "        if word not in word_vecs and vocab[word] >= min_df:\n",
    "            word_vecs[word] = np.random.uniform(-0.25,0.25,k)  \n",
    "\n",
    "def clean_str(string):\n",
    "    \"\"\"\n",
    "    Tokenization/string cleaning for dataset\n",
    "    Every dataset is lower cased except\n",
    "    \"\"\"\n",
    "    string = re.sub(r\"[^A-Za-z0-9(),!?\\'\\`]\", \" \", string)     \n",
    "    string = re.sub(r\"\\'s\", \" \\'s\", string) \n",
    "    string = re.sub(r\"\\'ve\", \" \\'ve\", string) \n",
    "    string = re.sub(r\"n\\'t\", \" n\\'t\", string) \n",
    "    string = re.sub(r\"\\'re\", \" \\'re\", string) \n",
    "    string = re.sub(r\"\\'d\", \" \\'d\", string) \n",
    "    string = re.sub(r\"\\'ll\", \" \\'ll\", string) \n",
    "    string = re.sub(r\",\", \" , \", string) \n",
    "    string = re.sub(r\"!\", \" ! \", string) \n",
    "    string = re.sub(r\"\\(\", \" \\( \", string) \n",
    "    string = re.sub(r\"\\)\", \" \\) \", string) \n",
    "    string = re.sub(r\"\\?\", \" \\? \", string) \n",
    "    string = re.sub(r\"\\s{2,}\", \" \", string)    \n",
    "    return string.strip().lower()"
   ]
  },
  {
   "cell_type": "code",
   "execution_count": 56,
   "metadata": {
    "collapsed": false
   },
   "outputs": [
    {
     "name": "stdout",
     "output_type": "stream",
     "text": [
      "data loaded!\n",
      "number of sentences: 38200\n",
      "vocab size: 36883\n",
      "max sentence length: 247\n"
     ]
    }
   ],
   "source": [
    "revs, vocab = build_data_train_test(train_ratio=0.8, clean_string=True)\n",
    "max_l = np.max(pd.DataFrame(revs)['num_words'])\n",
    "print 'data loaded!'\n",
    "print 'number of sentences: ' + str(len(revs))\n",
    "print 'vocab size: ' + str(len(vocab))\n",
    "print 'max sentence length: ' + str(max_l)"
   ]
  },
  {
   "cell_type": "code",
   "execution_count": 57,
   "metadata": {
    "collapsed": true
   },
   "outputs": [],
   "source": [
    "w2v = {}"
   ]
  },
  {
   "cell_type": "code",
   "execution_count": 58,
   "metadata": {
    "collapsed": true
   },
   "outputs": [],
   "source": [
    "add_unknown_words(w2v, vocab)\n",
    "W, word_idx_map = get_W(w2v)"
   ]
  },
  {
   "cell_type": "code",
   "execution_count": 11,
   "metadata": {
    "collapsed": false
   },
   "outputs": [
    {
     "name": "stdout",
     "output_type": "stream",
     "text": [
      "36884\n",
      "36883\n",
      "36883\n",
      "\n",
      "\n",
      "Some words in the vocab:\n",
      "blgh\n",
      "pasnecker\n",
      "colonoscopy\n",
      "sonja\n",
      "gag\n",
      "woods\n",
      "dogears\n",
      "hanging\n",
      "woody\n",
      "localized\n"
     ]
    }
   ],
   "source": [
    "print (len(W))\n",
    "print (len(vocab))\n",
    "print (len(word_idx_map.items()))\n",
    "print \"\\n\\nSome words in the vocab:\"\n",
    "for i in range(10):\n",
    "    print word_idx_map.keys()[i]"
   ]
  },
  {
   "cell_type": "markdown",
   "metadata": {},
   "source": [
    "# Prepare for training"
   ]
  },
  {
   "cell_type": "code",
   "execution_count": 12,
   "metadata": {
    "collapsed": false
   },
   "outputs": [],
   "source": [
    "def get_idx_from_sent(sent, word_idx_map, max_l=51, kernel_size=5):\n",
    "    \"\"\"\n",
    "    Transforms sentence into a list of indices. Pad with zeroes.\n",
    "    \"\"\"\n",
    "    x = []\n",
    "    words = sent.split()\n",
    "    for word in words:\n",
    "        if word in word_idx_map:\n",
    "            x.append(word_idx_map[word])\n",
    "#     while len(x) < max_l:\n",
    "#         x.append(0)\n",
    "    return x\n",
    "\n",
    "def make_idx_data(revs, word_idx_map, max_l=51, kernel_size=5):\n",
    "    \"\"\"\n",
    "    Transforms sentences into a 2-d matrix.\n",
    "    \"\"\"\n",
    "    train, val, test = [], [], []\n",
    "    y_train, y_val, y_test = [], [] , []\n",
    "    y_cat_train, y_cat_val, y_cat_test = [], [] , []\n",
    "    for rev in revs:\n",
    "        sent = get_idx_from_sent(rev['text'], word_idx_map, max_l, kernel_size)\n",
    "#         sent.append(rev['y'])\n",
    "        if rev['split'] == 1:\n",
    "            train.append(sent)\n",
    "            y_train.append(int(rev[\"y\"]))\n",
    "            y_cat_train.append(rev[\"y_cat\"])\n",
    "        elif rev['split'] == 0:\n",
    "            val.append(sent)\n",
    "            y_val.append(int(rev[\"y\"]))\n",
    "            y_cat_val.append(rev[\"y_cat\"])\n",
    "        else:\n",
    "            test.append(sent)\n",
    "            y_test.append(int(rev[\"y\"]))\n",
    "            y_cat_test.append(rev[\"y_cat\"])\n",
    "            \n",
    "#     train = np.array(train, dtype=np.int)\n",
    "#     val = np.array(val, dtype=np.int)\n",
    "#     test = np.array(test, dtype=np.int)\n",
    "    train = sequence.pad_sequences(train, maxlen=max_l)\n",
    "    y_train = np.array(y_train, dtype=np.int)\n",
    "    y_cat_train = np.array(y_cat_train, dtype=np.int)\n",
    "    \n",
    "    val = sequence.pad_sequences(val, maxlen=max_l)\n",
    "    y_val = np.array(y_val, dtype=np.int)\n",
    "    y_cat_val = np.array(y_cat_val, dtype=np.int)\n",
    "    \n",
    "    test = sequence.pad_sequences(test, maxlen=max_l)\n",
    "    y_test = np.array(y_test, dtype=np.int)\n",
    "    y_cat_test = np.array(y_cat_test, dtype=np.int)\n",
    "    \n",
    "    return [train, val, test, y_train, y_val, y_test, y_cat_train, y_cat_val, y_cat_test]"
   ]
  },
  {
   "cell_type": "code",
   "execution_count": 13,
   "metadata": {
    "collapsed": false
   },
   "outputs": [],
   "source": [
    "datasets = make_idx_data(revs, word_idx_map, max_l=200,kernel_size=5)"
   ]
  },
  {
   "cell_type": "code",
   "execution_count": 14,
   "metadata": {
    "collapsed": false
   },
   "outputs": [],
   "source": [
    "train, y_train, y_cat_train = datasets[0], datasets[3], datasets[6]\n",
    "val, y_val, y_cat_val = datasets[1], datasets[4], datasets[7]\n",
    "test, y_test, y_cat_test = datasets[2], datasets[5], datasets[8]"
   ]
  },
  {
   "cell_type": "code",
   "execution_count": 15,
   "metadata": {
    "collapsed": false
   },
   "outputs": [
    {
     "name": "stdout",
     "output_type": "stream",
     "text": [
      "27235 (27235, 200) 27235 (27235,) 0.70086286029\n",
      "[0 1]\n",
      "[0 1]\n",
      "[ 23.64237195   6.27134202   4.02423352   5.15145952  60.91059299]\n"
     ]
    }
   ],
   "source": [
    "print len(train), train.shape, len(y_train), y_train.shape, y_train.mean()\n",
    "print np.unique(y_train)\n",
    "\n",
    "print np.unique(y_cat_train)\n",
    "print np.sum(y_cat_train, axis=0)*100/float(np.sum(y_cat_train))"
   ]
  },
  {
   "cell_type": "code",
   "execution_count": 16,
   "metadata": {
    "collapsed": false
   },
   "outputs": [
    {
     "name": "stdout",
     "output_type": "stream",
     "text": [
      "6765 (6765, 200) 6765 (6765,) 0.70140428677\n",
      "[0 1]\n",
      "[ 23.0007391    6.85883222   4.05025868   5.07021434  61.01995565]\n"
     ]
    }
   ],
   "source": [
    "print len(val), val.shape, len(y_val), y_val.shape, y_val.mean()\n",
    "print np.unique(y_val)\n",
    "\n",
    "print np.sum(y_cat_val, axis=0)*100/float(np.sum(y_cat_val))"
   ]
  },
  {
   "cell_type": "code",
   "execution_count": 17,
   "metadata": {
    "collapsed": false
   },
   "outputs": [
    {
     "name": "stdout",
     "output_type": "stream",
     "text": [
      "4200 (4200, 200) 4200 (4200,) 0.700476190476\n",
      "[0 1]\n",
      "[ 24.23809524   5.71428571   3.5          4.57142857  61.97619048]\n"
     ]
    }
   ],
   "source": [
    "print len(test), test.shape, len(y_test), y_test.shape, y_test.mean()\n",
    "print np.unique(y_test)\n",
    "\n",
    "print np.sum(y_cat_test, axis=0)*100/float(np.sum(y_cat_test))"
   ]
  },
  {
   "cell_type": "markdown",
   "metadata": {},
   "source": [
    "# Try the model same as IMDB"
   ]
  },
  {
   "cell_type": "code",
   "execution_count": 66,
   "metadata": {
    "collapsed": false
   },
   "outputs": [
    {
     "name": "stdout",
     "output_type": "stream",
     "text": [
      "Build model...\n"
     ]
    }
   ],
   "source": [
    "print('Build model...')\n",
    "model = Sequential()\n",
    "model.add(Embedding(len(vocab)+1, 128, dropout=0.2, mask_zero=True))\n",
    "model.add(LSTM(128, dropout_W=0.2, dropout_U=0.2))  # try using a GRU instead, for fun\n",
    "model.add(Dense(1))\n",
    "model.add(Activation('sigmoid'))\n",
    "\n",
    "# try using different optimizers and different optimizer configs\n",
    "model.compile(loss='binary_crossentropy',\n",
    "              optimizer='adam',\n",
    "              metrics=['accuracy'])"
   ]
  },
  {
   "cell_type": "code",
   "execution_count": 67,
   "metadata": {
    "collapsed": false
   },
   "outputs": [
    {
     "name": "stdout",
     "output_type": "stream",
     "text": [
      "Train...\n",
      "Train on 27234 samples, validate on 6766 samples\n",
      "Epoch 1/15\n",
      "27234/27234 [==============================] - 435s - loss: 0.3745 - acc: 0.8288 - val_loss: 0.1986 - val_acc: 0.9138\n",
      "Epoch 2/15\n",
      "27234/27234 [==============================] - 432s - loss: 0.2382 - acc: 0.8960 - val_loss: 0.1803 - val_acc: 0.9228\n",
      "Epoch 3/15\n",
      "27234/27234 [==============================] - 430s - loss: 0.1947 - acc: 0.9166 - val_loss: 0.1784 - val_acc: 0.9261\n",
      "Epoch 4/15\n",
      "27234/27234 [==============================] - 431s - loss: 0.1652 - acc: 0.9286 - val_loss: 0.1705 - val_acc: 0.9291\n",
      "Epoch 5/15\n",
      "27234/27234 [==============================] - 432s - loss: 0.1459 - acc: 0.9347 - val_loss: 0.1644 - val_acc: 0.9307\n",
      "Epoch 6/15\n",
      "27234/27234 [==============================] - 427s - loss: 0.1250 - acc: 0.9439 - val_loss: 0.1808 - val_acc: 0.9289\n",
      "Epoch 7/15\n",
      "27234/27234 [==============================] - 434s - loss: 0.1227 - acc: 0.9442 - val_loss: 0.2058 - val_acc: 0.9268\n",
      "Epoch 8/15\n",
      "27234/27234 [==============================] - 427s - loss: 0.1067 - acc: 0.9504 - val_loss: 0.1718 - val_acc: 0.9308\n",
      "Epoch 9/15\n",
      "27234/27234 [==============================] - 427s - loss: 0.0971 - acc: 0.9556 - val_loss: 0.1946 - val_acc: 0.9226\n",
      "Epoch 10/15\n",
      "27234/27234 [==============================] - 431s - loss: 0.0917 - acc: 0.9594 - val_loss: 0.1813 - val_acc: 0.9298\n",
      "Epoch 11/15\n",
      "27234/27234 [==============================] - 451s - loss: 0.0846 - acc: 0.9609 - val_loss: 0.1816 - val_acc: 0.9301\n",
      "Epoch 12/15\n",
      "27234/27234 [==============================] - 430s - loss: 0.0875 - acc: 0.9606 - val_loss: 0.1975 - val_acc: 0.9288\n",
      "Epoch 13/15\n",
      "27234/27234 [==============================] - 426s - loss: 0.0764 - acc: 0.9646 - val_loss: 0.1923 - val_acc: 0.9276\n",
      "Epoch 14/15\n",
      "27234/27234 [==============================] - 436s - loss: 0.0768 - acc: 0.9639 - val_loss: 0.1922 - val_acc: 0.9271\n",
      "Epoch 15/15\n",
      "27234/27234 [==============================] - 431s - loss: 0.0699 - acc: 0.9659 - val_loss: 0.1910 - val_acc: 0.9265\n"
     ]
    },
    {
     "data": {
      "text/plain": [
       "<keras.callbacks.History at 0x22c6b790>"
      ]
     },
     "execution_count": 67,
     "metadata": {},
     "output_type": "execute_result"
    }
   ],
   "source": [
    "print('Train...')\n",
    "model.fit(train, y_train, batch_size=50, nb_epoch=15,validation_data=(val, y_val))"
   ]
  },
  {
   "cell_type": "code",
   "execution_count": 78,
   "metadata": {
    "collapsed": false
   },
   "outputs": [
    {
     "name": "stdout",
     "output_type": "stream",
     "text": [
      "2683/2683 [==============================] - 12s    \n",
      "('Test score:', 0.20978614839125026)\n",
      "('Test accuracy:', 0.92396571182555953)\n"
     ]
    }
   ],
   "source": [
    "score, acc = model.evaluate(test, y_test,\n",
    "                            batch_size=50)\n",
    "print('Test score:', score)\n",
    "print('Test accuracy:', acc)"
   ]
  },
  {
   "cell_type": "markdown",
   "metadata": {},
   "source": [
    "## Try with GRU and increased hiddedn layers"
   ]
  },
  {
   "cell_type": "code",
   "execution_count": 22,
   "metadata": {
    "collapsed": false
   },
   "outputs": [
    {
     "name": "stdout",
     "output_type": "stream",
     "text": [
      "Build model_gru...\n"
     ]
    }
   ],
   "source": [
    "print('Build model_gru...')\n",
    "model_gru = Sequential()\n",
    "model_gru.add(Embedding(len(vocab)+1, 128, dropout=0.2, mask_zero=True))\n",
    "model_gru.add(GRU(300, dropout_W=0.2, dropout_U=0.2))  # try using a GRU instead, for fun\n",
    "model_gru.add(Dense(1))\n",
    "model_gru.add(Activation('sigmoid'))\n",
    "\n",
    "# try using different optimizers and different optimizer configs\n",
    "model_gru.compile(loss='binary_crossentropy',\n",
    "              optimizer='adagrad',\n",
    "              metrics=['accuracy'])"
   ]
  },
  {
   "cell_type": "code",
   "execution_count": 23,
   "metadata": {
    "collapsed": false
   },
   "outputs": [
    {
     "name": "stdout",
     "output_type": "stream",
     "text": [
      "Train...\n",
      "Train on 27235 samples, validate on 6765 samples\n",
      "Epoch 1/15\n",
      "27235/27235 [==============================] - 631s - loss: 0.3687 - acc: 0.8344 - val_loss: 0.2446 - val_acc: 0.8918\n",
      "Epoch 2/15\n",
      "27235/27235 [==============================] - 614s - loss: 0.2481 - acc: 0.8898 - val_loss: 0.2247 - val_acc: 0.8990\n",
      "Epoch 3/15\n",
      "27235/27235 [==============================] - 608s - loss: 0.2111 - acc: 0.9067 - val_loss: 0.2161 - val_acc: 0.9042\n",
      "Epoch 4/15\n",
      "27235/27235 [==============================] - 606s - loss: 0.1878 - acc: 0.9180 - val_loss: 0.2167 - val_acc: 0.9041\n",
      "Epoch 5/15\n",
      "27235/27235 [==============================] - 607s - loss: 0.1690 - acc: 0.9259 - val_loss: 0.2178 - val_acc: 0.9026\n",
      "Epoch 6/15\n",
      "27235/27235 [==============================] - 603s - loss: 0.1562 - acc: 0.9315 - val_loss: 0.2213 - val_acc: 0.9036\n",
      "Epoch 7/15\n",
      "27235/27235 [==============================] - 607s - loss: 0.1407 - acc: 0.9354 - val_loss: 0.2300 - val_acc: 0.9011\n",
      "Epoch 8/15\n",
      "27235/27235 [==============================] - 605s - loss: 0.1324 - acc: 0.9411 - val_loss: 0.2448 - val_acc: 0.8968\n",
      "Epoch 9/15\n",
      "27235/27235 [==============================] - 602s - loss: 0.1207 - acc: 0.9445 - val_loss: 0.2501 - val_acc: 0.9008\n",
      "Epoch 10/15\n",
      "27235/27235 [==============================] - 603s - loss: 0.1163 - acc: 0.9453 - val_loss: 0.2559 - val_acc: 0.8986\n",
      "Epoch 11/15\n",
      "27235/27235 [==============================] - 604s - loss: 0.1124 - acc: 0.9486 - val_loss: 0.2540 - val_acc: 0.8953\n",
      "Epoch 12/15\n",
      "27235/27235 [==============================] - 602s - loss: 0.1038 - acc: 0.9521 - val_loss: 0.2581 - val_acc: 0.8942\n",
      "Epoch 13/15\n",
      "27235/27235 [==============================] - 605s - loss: 0.0981 - acc: 0.9535 - val_loss: 0.2714 - val_acc: 0.8946\n",
      "Epoch 14/15\n",
      "27235/27235 [==============================] - 609s - loss: 0.0965 - acc: 0.9545 - val_loss: 0.3001 - val_acc: 0.8940\n",
      "Epoch 15/15\n",
      "27235/27235 [==============================] - 603s - loss: 0.0902 - acc: 0.9571 - val_loss: 0.2986 - val_acc: 0.8950\n"
     ]
    },
    {
     "data": {
      "text/plain": [
       "<keras.callbacks.History at 0x1a879090>"
      ]
     },
     "execution_count": 23,
     "metadata": {},
     "output_type": "execute_result"
    }
   ],
   "source": [
    "print('Train...')\n",
    "model_gru.fit(train, y_train, batch_size=50, nb_epoch=15,validation_data=(val, y_val))"
   ]
  },
  {
   "cell_type": "code",
   "execution_count": 24,
   "metadata": {
    "collapsed": false
   },
   "outputs": [
    {
     "name": "stdout",
     "output_type": "stream",
     "text": [
      "4200/4200 [==============================] - 27s    \n",
      "('Test score:', 0.28316650934339987)\n",
      "('Test accuracy:', 0.90428570977279121)\n"
     ]
    }
   ],
   "source": [
    "score, acc = model_gru.evaluate(test, y_test,\n",
    "                            batch_size=50)\n",
    "print('Test score:', score)\n",
    "print('Test accuracy:', acc)"
   ]
  },
  {
   "cell_type": "markdown",
   "metadata": {},
   "source": [
    "## =================================================\n",
    "## Try categorial classification "
   ]
  },
  {
   "cell_type": "code",
   "execution_count": 19,
   "metadata": {
    "collapsed": false
   },
   "outputs": [
    {
     "name": "stdout",
     "output_type": "stream",
     "text": [
      "Build model_cat...\n"
     ]
    }
   ],
   "source": [
    "print('Build model_cat...')\n",
    "model_cat = Sequential()\n",
    "model_cat.add(Embedding(len(vocab)+1, 128, dropout=0.2, mask_zero=True))\n",
    "model_cat.add(LSTM(128, dropout_W=0.2, dropout_U=0.2))  # try using a GRU instead, for fun\n",
    "model_cat.add(Dense(5))\n",
    "model_cat.add(Activation('sigmoid'))\n",
    "\n",
    "# try using different optimizers and different optimizer configs\n",
    "model_cat.compile(loss='categorical_crossentropy',\n",
    "              optimizer='adam',\n",
    "              metrics=['accuracy', 'mean_absolute_error'])"
   ]
  },
  {
   "cell_type": "code",
   "execution_count": 20,
   "metadata": {
    "collapsed": false,
    "scrolled": true
   },
   "outputs": [
    {
     "name": "stdout",
     "output_type": "stream",
     "text": [
      "Train...\n"
     ]
    },
    {
     "name": "stderr",
     "output_type": "stream",
     "text": [
      "/usr/lib/python2.7/site-packages/tensorflow/python/ops/gradients.py:90: UserWarning: Converting sparse IndexedSlices to a dense Tensor of unknown shape. This may consume a large amount of memory.\n",
      "  \"Converting sparse IndexedSlices to a dense Tensor of unknown shape. \"\n"
     ]
    },
    {
     "name": "stdout",
     "output_type": "stream",
     "text": [
      "Train on 27235 samples, validate on 6765 samples\n",
      "Epoch 1/15\n",
      "27235/27235 [==============================] - 431s - loss: 0.9502 - acc: 0.6774 - mean_absolute_error: 0.2114 - val_loss: 0.7005 - val_acc: 0.7786 - val_mean_absolute_error: 0.1381\n",
      "Epoch 2/15\n",
      "27235/27235 [==============================] - 426s - loss: 0.6953 - acc: 0.7762 - mean_absolute_error: 0.1429 - val_loss: 0.6500 - val_acc: 0.7899 - val_mean_absolute_error: 0.1294\n",
      "Epoch 3/15\n",
      "27235/27235 [==============================] - 411s - loss: 0.6179 - acc: 0.7947 - mean_absolute_error: 0.1303 - val_loss: 0.6340 - val_acc: 0.7910 - val_mean_absolute_error: 0.1258\n",
      "Epoch 4/15\n",
      "27235/27235 [==============================] - 414s - loss: 0.5702 - acc: 0.8041 - mean_absolute_error: 0.1277 - val_loss: 0.6351 - val_acc: 0.7931 - val_mean_absolute_error: 0.1268\n",
      "Epoch 5/15\n",
      "27235/27235 [==============================] - 407s - loss: 0.5216 - acc: 0.8174 - mean_absolute_error: 0.1263 - val_loss: 0.6400 - val_acc: 0.7830 - val_mean_absolute_error: 0.1287\n",
      "Epoch 6/15\n",
      "27235/27235 [==============================] - 406s - loss: 0.4751 - acc: 0.8302 - mean_absolute_error: 0.1253 - val_loss: 0.6487 - val_acc: 0.7865 - val_mean_absolute_error: 0.1375\n",
      "Epoch 7/15\n",
      "27235/27235 [==============================] - 410s - loss: 0.4313 - acc: 0.8453 - mean_absolute_error: 0.1228 - val_loss: 0.6762 - val_acc: 0.7729 - val_mean_absolute_error: 0.1320\n",
      "Epoch 8/15\n",
      "27235/27235 [==============================] - 414s - loss: 0.3882 - acc: 0.8594 - mean_absolute_error: 0.1185 - val_loss: 0.6983 - val_acc: 0.7682 - val_mean_absolute_error: 0.1364\n",
      "Epoch 9/15\n",
      "27235/27235 [==============================] - 412s - loss: 0.3506 - acc: 0.8732 - mean_absolute_error: 0.1184 - val_loss: 0.7516 - val_acc: 0.7761 - val_mean_absolute_error: 0.1230\n",
      "Epoch 10/15\n",
      "27235/27235 [==============================] - 407s - loss: 0.3177 - acc: 0.8846 - mean_absolute_error: 0.1111 - val_loss: 0.7865 - val_acc: 0.7687 - val_mean_absolute_error: 0.1293\n",
      "Epoch 11/15\n",
      "27235/27235 [==============================] - 407s - loss: 0.2945 - acc: 0.8926 - mean_absolute_error: 0.1118 - val_loss: 0.8078 - val_acc: 0.7633 - val_mean_absolute_error: 0.1312\n",
      "Epoch 12/15\n",
      "27235/27235 [==============================] - 407s - loss: 0.2695 - acc: 0.9023 - mean_absolute_error: 0.1060 - val_loss: 0.8315 - val_acc: 0.7684 - val_mean_absolute_error: 0.1308\n",
      "Epoch 13/15\n",
      "27235/27235 [==============================] - 410s - loss: 0.2465 - acc: 0.9116 - mean_absolute_error: 0.1037 - val_loss: 0.8639 - val_acc: 0.7656 - val_mean_absolute_error: 0.1314\n",
      "Epoch 14/15\n",
      "27235/27235 [==============================] - 406s - loss: 0.2297 - acc: 0.9173 - mean_absolute_error: 0.1034 - val_loss: 0.8919 - val_acc: 0.7657 - val_mean_absolute_error: 0.1367\n",
      "Epoch 15/15\n",
      "27235/27235 [==============================] - 406s - loss: 0.2174 - acc: 0.9207 - mean_absolute_error: 0.1049 - val_loss: 0.9187 - val_acc: 0.7580 - val_mean_absolute_error: 0.1320\n"
     ]
    },
    {
     "data": {
      "text/plain": [
       "<keras.callbacks.History at 0x13445f50>"
      ]
     },
     "execution_count": 20,
     "metadata": {},
     "output_type": "execute_result"
    }
   ],
   "source": [
    "print('Train...')\n",
    "\n",
    "model_cat.fit(train, y_cat_train, batch_size=50, nb_epoch=15,validation_data=(val, y_cat_val))"
   ]
  },
  {
   "cell_type": "code",
   "execution_count": 21,
   "metadata": {
    "collapsed": false
   },
   "outputs": [
    {
     "name": "stdout",
     "output_type": "stream",
     "text": [
      "4200/4200 [==============================] - 19s    \n",
      "('Test score:', 0.84444178853716167)\n",
      "('Test accuracy:', 0.77642857247874852)\n",
      "('Test Mean absolute error:', 0.13243585567744004)\n"
     ]
    }
   ],
   "source": [
    "score, acc, mae = model_cat.evaluate(test, y_cat_test,\n",
    "                            batch_size=50)\n",
    "print('Test score:', score)\n",
    "print('Test accuracy:', acc)\n",
    "print('Test Mean absolute error:', mae)"
   ]
  },
  {
   "cell_type": "markdown",
   "metadata": {},
   "source": [
    "##  ================================================\n",
    "## Add word2vec"
   ]
  },
  {
   "cell_type": "code",
   "execution_count": 74,
   "metadata": {
    "collapsed": false
   },
   "outputs": [
    {
     "name": "stdout",
     "output_type": "stream",
     "text": [
      "Build model_w2v...\n"
     ]
    }
   ],
   "source": [
    "print('Build model_w2v...')\n",
    "model_w2v = Sequential()\n",
    "model_w2v.add(Embedding(len(W), 300, dropout=0.2, weights=[W], mask_zero=True))\n",
    "model_w2v.add(LSTM(128, dropout_W=0.3, dropout_U=0.3))  # try using a GRU instead, for fun\n",
    "model_w2v.add(Dense(1))\n",
    "model_w2v.add(Activation('tanh'))\n",
    "\n",
    "# try using different optimizers and different optimizer configs\n",
    "model_w2v.compile(loss='binary_crossentropy',\n",
    "              optimizer='adadelta',\n",
    "              metrics=['accuracy'])"
   ]
  },
  {
   "cell_type": "code",
   "execution_count": 75,
   "metadata": {
    "collapsed": false
   },
   "outputs": [
    {
     "name": "stdout",
     "output_type": "stream",
     "text": [
      "Train...\n",
      "Train on 27235 samples, validate on 6765 samples\n",
      "Epoch 1/15\n",
      "27235/27235 [==============================] - 603s - loss: 0.7838 - acc: 0.6541 - val_loss: 0.4998 - val_acc: 0.7438\n",
      "Epoch 2/15\n",
      "27235/27235 [==============================] - 598s - loss: 0.4971 - acc: 0.7786 - val_loss: 0.3700 - val_acc: 0.8177\n",
      "Epoch 3/15\n",
      "27235/27235 [==============================] - 597s - loss: 0.4282 - acc: 0.8154 - val_loss: 0.3512 - val_acc: 0.8636\n",
      "Epoch 4/15\n",
      "27235/27235 [==============================] - 597s - loss: 0.3906 - acc: 0.8356 - val_loss: 0.3466 - val_acc: 0.8680\n",
      "Epoch 5/15\n",
      "27235/27235 [==============================] - 593s - loss: 0.3712 - acc: 0.8459 - val_loss: 0.2822 - val_acc: 0.8806\n",
      "Epoch 6/15\n",
      "27235/27235 [==============================] - 586s - loss: 0.3603 - acc: 0.8554 - val_loss: 0.2735 - val_acc: 0.8838\n",
      "Epoch 7/15\n",
      "27235/27235 [==============================] - 589s - loss: 0.3411 - acc: 0.8591 - val_loss: 0.2696 - val_acc: 0.8891\n",
      "Epoch 8/15\n",
      "27235/27235 [==============================] - 586s - loss: 0.3293 - acc: 0.8662 - val_loss: 0.2737 - val_acc: 0.8871\n",
      "Epoch 9/15\n",
      "27235/27235 [==============================] - 584s - loss: 0.3264 - acc: 0.8691 - val_loss: 0.2827 - val_acc: 0.8930\n",
      "Epoch 10/15\n",
      "27235/27235 [==============================] - 583s - loss: 0.3180 - acc: 0.8713 - val_loss: 0.2571 - val_acc: 0.8927\n",
      "Epoch 11/15\n",
      "27235/27235 [==============================] - 582s - loss: 0.2997 - acc: 0.8762 - val_loss: 0.2494 - val_acc: 0.8922\n",
      "Epoch 12/15\n",
      "27235/27235 [==============================] - 586s - loss: 0.2978 - acc: 0.8778 - val_loss: 0.2594 - val_acc: 0.8903\n",
      "Epoch 13/15\n",
      "27235/27235 [==============================] - 585s - loss: 0.2902 - acc: 0.8821 - val_loss: 0.2450 - val_acc: 0.8955\n",
      "Epoch 14/15\n",
      "27235/27235 [==============================] - 599s - loss: 0.2908 - acc: 0.8838 - val_loss: 0.2584 - val_acc: 0.8949\n",
      "Epoch 15/15\n",
      "27235/27235 [==============================] - 577s - loss: 0.2958 - acc: 0.8857 - val_loss: 0.2775 - val_acc: 0.8943\n"
     ]
    },
    {
     "data": {
      "text/plain": [
       "<keras.callbacks.History at 0x3c5ecdd0>"
      ]
     },
     "execution_count": 75,
     "metadata": {},
     "output_type": "execute_result"
    }
   ],
   "source": [
    "print('Train...')\n",
    "model_w2v.fit(train, y_train, batch_size=50, nb_epoch=15,validation_data=(val, y_val))"
   ]
  },
  {
   "cell_type": "code",
   "execution_count": 76,
   "metadata": {
    "collapsed": false
   },
   "outputs": [
    {
     "name": "stdout",
     "output_type": "stream",
     "text": [
      "4200/4200 [==============================] - 24s    \n",
      "('Test score:', 0.29426618505801472)\n",
      "('Test accuracy:', 0.89928571099326726)\n"
     ]
    }
   ],
   "source": [
    "score, acc = model_w2v.evaluate(test, y_test,\n",
    "                            batch_size=50)\n",
    "print('Test score:', score)\n",
    "print('Test accuracy:', acc)"
   ]
  },
  {
   "cell_type": "code",
   "execution_count": null,
   "metadata": {
    "collapsed": true
   },
   "outputs": [],
   "source": []
  }
 ],
 "metadata": {
  "kernelspec": {
   "display_name": "Python 2",
   "language": "python",
   "name": "python2"
  },
  "language_info": {
   "codemirror_mode": {
    "name": "ipython",
    "version": 2
   },
   "file_extension": ".py",
   "mimetype": "text/x-python",
   "name": "python",
   "nbconvert_exporter": "python",
   "pygments_lexer": "ipython2",
   "version": "2.7.5"
  }
 },
 "nbformat": 4,
 "nbformat_minor": 1
}
